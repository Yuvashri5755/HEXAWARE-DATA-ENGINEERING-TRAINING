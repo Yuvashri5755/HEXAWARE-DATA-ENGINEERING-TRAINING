{
  "cells": [
    {
      "cell_type": "markdown",
      "metadata": {},
      "source": [
        "**PYTHON CODING CHALLENGE**\n",
        "\n",
        "\n",
        "SUBMITTED BY:YUVASHRI S"
      ]
    },
    {
      "cell_type": "markdown",
      "metadata": {
        "id": "1nU984Tslu9U"
      },
      "source": [
        "NUMPY QUESTIONS"
      ]
    },
    {
      "cell_type": "code",
      "execution_count": 1,
      "metadata": {
        "id": "MY61zcqjiIkd"
      },
      "outputs": [],
      "source": [
        "import numpy as np"
      ]
    },
    {
      "cell_type": "markdown",
      "metadata": {
        "id": "QX9DRRUBiZC9"
      },
      "source": [
        "1) Create a NumPy array of integers from 10 to 50 (inclusive) and find all even numbers in that array.\n"
      ]
    },
    {
      "cell_type": "code",
      "execution_count": 2,
      "metadata": {
        "colab": {
          "base_uri": "https://localhost:8080/"
        },
        "id": "t7j54rG8igse",
        "outputId": "bc992441-9f0b-472a-ae69-7e83bf52f18e"
      },
      "outputs": [
        {
          "name": "stdout",
          "output_type": "stream",
          "text": [
            "1) [10 12 14 16 18 20 22 24 26 28 30 32 34 36 38 40 42 44 46 48 50]\n"
          ]
        }
      ],
      "source": [
        "\n",
        "arr1 = np.arange(10, 51)\n",
        "print(\"1)\", arr1[arr1 % 2 == 0])"
      ]
    },
    {
      "cell_type": "markdown",
      "metadata": {
        "id": "ck7Ro25xikx_"
      },
      "source": [
        "2) Generate a 5x5 NumPy array with random integers between 1 and 100, then replace all numbers greater than 50 with the value 50.\n"
      ]
    },
    {
      "cell_type": "code",
      "execution_count": 3,
      "metadata": {
        "colab": {
          "base_uri": "https://localhost:8080/"
        },
        "id": "A29Bxx5Zin5H",
        "outputId": "44c660f2-38eb-4bc9-d41c-a530d09a2252"
      },
      "outputs": [
        {
          "name": "stdout",
          "output_type": "stream",
          "text": [
            "2) Original:\n",
            " [[51 15 34  3 43]\n",
            " [ 6 90 48 59 50]\n",
            " [79  4 14 87 26]\n",
            " [67 54 17 37 58]\n",
            " [62 22 93 41 27]]\n",
            "   Modified:\n",
            " [[50 15 34  3 43]\n",
            " [ 6 50 48 50 50]\n",
            " [50  4 14 50 26]\n",
            " [50 50 17 37 50]\n",
            " [50 22 50 41 27]]\n"
          ]
        }
      ],
      "source": [
        "arr2 = np.random.randint(1, 101, (5, 5))\n",
        "print(\"2) Original:\\n\", arr2)\n",
        "print(\"   Modified:\\n\", np.where(arr2 > 50, 50, arr2))"
      ]
    },
    {
      "cell_type": "markdown",
      "metadata": {
        "id": "fpmmMckXizEO"
      },
      "source": [
        "3) Create a 1D array of 20 linearly spaced numbers between 0 and 1.\n"
      ]
    },
    {
      "cell_type": "code",
      "execution_count": 4,
      "metadata": {
        "colab": {
          "base_uri": "https://localhost:8080/"
        },
        "id": "d9SHxGWMi1bo",
        "outputId": "d35dc7a2-59cc-46a2-aecc-9d1d30e5ff0a"
      },
      "outputs": [
        {
          "name": "stdout",
          "output_type": "stream",
          "text": [
            "3) [0.         0.05263158 0.10526316 0.15789474 0.21052632 0.26315789\n",
            " 0.31578947 0.36842105 0.42105263 0.47368421 0.52631579 0.57894737\n",
            " 0.63157895 0.68421053 0.73684211 0.78947368 0.84210526 0.89473684\n",
            " 0.94736842 1.        ]\n"
          ]
        }
      ],
      "source": [
        "print(\"3)\", np.linspace(0, 1, 20))\n"
      ]
    },
    {
      "cell_type": "markdown",
      "metadata": {
        "id": "UsRqdoDri-jn"
      },
      "source": [
        "4) Given an array [5, 10, 15, 20, 25], repeat each element 3 times.\n"
      ]
    },
    {
      "cell_type": "code",
      "execution_count": 5,
      "metadata": {
        "colab": {
          "base_uri": "https://localhost:8080/"
        },
        "id": "yC6QODFgi5PR",
        "outputId": "4ab4de9a-892b-4cef-9886-dc901376b167"
      },
      "outputs": [
        {
          "name": "stdout",
          "output_type": "stream",
          "text": [
            "4) [ 5  5  5 10 10 10 15 15 15 20 20 20 25 25 25]\n"
          ]
        }
      ],
      "source": [
        "print(\"4)\", np.repeat([5, 10, 15, 20, 25], 3))\n"
      ]
    },
    {
      "cell_type": "markdown",
      "metadata": {
        "id": "UupBLDV9jC8W"
      },
      "source": [
        "5) Create a 3x3 identity matrix and multiply it by 7.\n"
      ]
    },
    {
      "cell_type": "code",
      "execution_count": 6,
      "metadata": {
        "colab": {
          "base_uri": "https://localhost:8080/"
        },
        "id": "pG-Qsd0jjHKI",
        "outputId": "2ba911d2-3275-4606-b23f-62cdb2d57aea"
      },
      "outputs": [
        {
          "name": "stdout",
          "output_type": "stream",
          "text": [
            "5)\n",
            " [[7. 0. 0.]\n",
            " [0. 7. 0.]\n",
            " [0. 0. 7.]]\n"
          ]
        }
      ],
      "source": [
        "print(\"5)\\n\", np.identity(3) * 7)"
      ]
    },
    {
      "cell_type": "markdown",
      "metadata": {
        "id": "S3Hxdiu_jL3y"
      },
      "source": [
        "6) Generate a random 4x4 matrix and compute the sum of each row.\n"
      ]
    },
    {
      "cell_type": "code",
      "execution_count": 7,
      "metadata": {
        "colab": {
          "base_uri": "https://localhost:8080/"
        },
        "id": "8C9KRvDdjOkS",
        "outputId": "b102f52a-e72f-4159-c774-12bd9bb1ddeb"
      },
      "outputs": [
        {
          "name": "stdout",
          "output_type": "stream",
          "text": [
            "6)\n",
            " [[98 87 60 18]\n",
            " [99 13 75 46]\n",
            " [82 62 60 76]\n",
            " [90 35 38 99]]\n",
            "   Row Sums: [263 233 280 262]\n"
          ]
        }
      ],
      "source": [
        "arr6 = np.random.randint(1, 100, (4, 4))\n",
        "print(\"6)\\n\", arr6)\n",
        "print(\"   Row Sums:\", arr6.sum(axis=1))\n"
      ]
    },
    {
      "cell_type": "markdown",
      "metadata": {
        "id": "7V0A0jdtjRPH"
      },
      "source": [
        "7) Given a 2D array, swap its first and last rows.\n"
      ]
    },
    {
      "cell_type": "code",
      "execution_count": 8,
      "metadata": {
        "colab": {
          "base_uri": "https://localhost:8080/"
        },
        "id": "TsWBozZujTv-",
        "outputId": "aee192ef-dbca-4cf9-f67e-784cd0bbb206"
      },
      "outputs": [
        {
          "name": "stdout",
          "output_type": "stream",
          "text": [
            "7)\n",
            " [[49 80  2 55]\n",
            " [79 37 96 12]\n",
            " [83 66 77  3]\n",
            " [89 74 28 13]]\n"
          ]
        }
      ],
      "source": [
        "arr7 = np.random.randint(1, 100, (4, 4))\n",
        "arr7[[0, -1]] = arr7[[-1, 0]]\n",
        "print(\"7)\\n\", arr7)"
      ]
    },
    {
      "cell_type": "markdown",
      "metadata": {
        "id": "aWlNg3TNjXsG"
      },
      "source": [
        "8) Create a 1D array of 100 random numbers sampled from a normal distribution with mean=0 and std=1, then count how many values are positive.\n"
      ]
    },
    {
      "cell_type": "code",
      "execution_count": 9,
      "metadata": {
        "colab": {
          "base_uri": "https://localhost:8080/"
        },
        "id": "Uz33Wg2hjaJD",
        "outputId": "27bbfd53-f7db-4a8e-904b-2e375e4191e4"
      },
      "outputs": [
        {
          "name": "stdout",
          "output_type": "stream",
          "text": [
            "8) Positive Count: 55\n"
          ]
        }
      ],
      "source": [
        "arr8 = np.random.normal(0, 1, 100)\n",
        "print(\"8) Positive Count:\", np.sum(arr8 > 0))"
      ]
    },
    {
      "cell_type": "markdown",
      "metadata": {
        "id": "9YcS4FXPjiU4"
      },
      "source": [
        "9) Create a 6x6 matrix with 0s on the border and 1s inside.\n"
      ]
    },
    {
      "cell_type": "code",
      "execution_count": 10,
      "metadata": {
        "colab": {
          "base_uri": "https://localhost:8080/"
        },
        "id": "pOCcAcVGjk9O",
        "outputId": "9615166a-088f-4906-b559-3ae10d79ea62"
      },
      "outputs": [
        {
          "name": "stdout",
          "output_type": "stream",
          "text": [
            "9)\n",
            " [[0. 0. 0. 0. 0. 0.]\n",
            " [0. 1. 1. 1. 1. 0.]\n",
            " [0. 1. 1. 1. 1. 0.]\n",
            " [0. 1. 1. 1. 1. 0.]\n",
            " [0. 1. 1. 1. 1. 0.]\n",
            " [0. 0. 0. 0. 0. 0.]]\n"
          ]
        }
      ],
      "source": [
        "arr9 = np.ones((6, 6))\n",
        "arr9[[0, -1], :] = arr9[:, [0, -1]] = 0\n",
        "print(\"9)\\n\", arr9)"
      ]
    },
    {
      "cell_type": "markdown",
      "metadata": {
        "id": "FUvbmQgXjoPK"
      },
      "source": [
        "10) Create a 10-element array of zeros and insert the number 5 at the 5th position.\n"
      ]
    },
    {
      "cell_type": "code",
      "execution_count": 11,
      "metadata": {
        "colab": {
          "base_uri": "https://localhost:8080/"
        },
        "id": "8VqeoVO1jwPJ",
        "outputId": "d78e6436-22c8-4f68-c8a1-f469d0f6628f"
      },
      "outputs": [
        {
          "name": "stdout",
          "output_type": "stream",
          "text": [
            "10) [0 0 0 0 5 0 0 0 0 0]\n"
          ]
        }
      ],
      "source": [
        "arr10 = np.zeros(10, dtype=int)\n",
        "arr10[4] = 5\n",
        "print(\"10)\", arr10)"
      ]
    },
    {
      "cell_type": "markdown",
      "metadata": {
        "id": "wJ7SofZBjxo8"
      },
      "source": [
        "11) Generate an array of 20 integers and sort it in descending order.\n"
      ]
    },
    {
      "cell_type": "code",
      "execution_count": 12,
      "metadata": {
        "colab": {
          "base_uri": "https://localhost:8080/"
        },
        "id": "1P0uCfePj15i",
        "outputId": "05aa0cca-c0e6-42b3-9495-c8e458ca22b1"
      },
      "outputs": [
        {
          "name": "stdout",
          "output_type": "stream",
          "text": [
            "11) [98 85 85 82 81 76 72 72 71 41 40 37 37 33 30 30 19 18  8  6]\n"
          ]
        }
      ],
      "source": [
        "arr11 = np.random.randint(1, 100, 20)\n",
        "print(\"11)\", np.sort(arr11)[::-1])\n"
      ]
    },
    {
      "cell_type": "markdown",
      "metadata": {
        "id": "UnrTlrlFj48t"
      },
      "source": [
        "12) Create a 3x3 matrix filled with numbers from 1 to 9, then flatten it to a 1D array.\n"
      ]
    },
    {
      "cell_type": "code",
      "execution_count": 13,
      "metadata": {
        "colab": {
          "base_uri": "https://localhost:8080/"
        },
        "id": "bdnws6Hcj7nk",
        "outputId": "32c004da-bf4d-47e6-a7af-d72877a93976"
      },
      "outputs": [
        {
          "name": "stdout",
          "output_type": "stream",
          "text": [
            "12) [1 2 3 4 5 6 7 8 9]\n"
          ]
        }
      ],
      "source": [
        "print(\"12)\", np.arange(1, 10).reshape(3, 3).flatten())\n"
      ]
    },
    {
      "cell_type": "markdown",
      "metadata": {
        "id": "DOiwMXZcj-w0"
      },
      "source": [
        "13) Replace all odd numbers in an array with -1.\n"
      ]
    },
    {
      "cell_type": "code",
      "execution_count": 14,
      "metadata": {
        "colab": {
          "base_uri": "https://localhost:8080/"
        },
        "id": "ife-FRDukBzX",
        "outputId": "523f3499-610d-43b6-dfac-ef527c892725"
      },
      "outputs": [
        {
          "name": "stdout",
          "output_type": "stream",
          "text": [
            "13) [-1  2 -1  4 -1  6 -1  8 -1 10]\n"
          ]
        }
      ],
      "source": [
        "arr13 = np.arange(1, 11)\n",
        "arr13[arr13 % 2 != 0] = -1\n",
        "print(\"13)\", arr13)\n"
      ]
    },
    {
      "cell_type": "markdown",
      "metadata": {
        "id": "U7G_rZq3kFF3"
      },
      "source": [
        "14) Given two arrays [1,2,3] and [4,5,6], stack them vertically and horizontally.\n"
      ]
    },
    {
      "cell_type": "code",
      "execution_count": 15,
      "metadata": {
        "colab": {
          "base_uri": "https://localhost:8080/"
        },
        "id": "_YnTCLAAkHwd",
        "outputId": "1d22e6cf-f86e-4a64-f5f6-5c8cc43afc4e"
      },
      "outputs": [
        {
          "name": "stdout",
          "output_type": "stream",
          "text": [
            "14) Vstack:\n",
            " [[1 2 3]\n",
            " [4 5 6]]\n",
            "    Hstack: [1 2 3 4 5 6]\n"
          ]
        }
      ],
      "source": [
        "a = np.array([1, 2, 3])\n",
        "b = np.array([4, 5, 6])\n",
        "print(\"14) Vstack:\\n\", np.vstack((a, b)))\n",
        "print(\"    Hstack:\", np.hstack((a, b)))"
      ]
    },
    {
      "cell_type": "markdown",
      "metadata": {
        "id": "u85z5sZTkQAS"
      },
      "source": [
        "15) Compute the dot product of two 3x3 matrices with random integers.\n"
      ]
    },
    {
      "cell_type": "code",
      "execution_count": 16,
      "metadata": {
        "colab": {
          "base_uri": "https://localhost:8080/"
        },
        "id": "dXHfPgzRkS-b",
        "outputId": "bec79cf9-b120-422d-be8e-1f66df2434f9"
      },
      "outputs": [
        {
          "name": "stdout",
          "output_type": "stream",
          "text": [
            "15) Dot Product:\n",
            " [[118  17 125]\n",
            " [ 79  12  82]\n",
            " [ 72  11  75]]\n"
          ]
        }
      ],
      "source": [
        "mat1 = np.random.randint(1, 10, (3, 3))\n",
        "mat2 = np.random.randint(1, 10, (3, 3))\n",
        "print(\"15) Dot Product:\\n\", np.dot(mat1, mat2))\n"
      ]
    },
    {
      "cell_type": "markdown",
      "metadata": {
        "id": "zwVj2elgkVs0"
      },
      "source": [
        "16) Create an array with shape (2, 3, 4) and find the mean across the last axis.\n"
      ]
    },
    {
      "cell_type": "code",
      "execution_count": 17,
      "metadata": {
        "colab": {
          "base_uri": "https://localhost:8080/"
        },
        "id": "do9XTfyhkYMg",
        "outputId": "fdb138b8-b1ca-4948-b2d8-19a84e9f6815"
      },
      "outputs": [
        {
          "name": "stdout",
          "output_type": "stream",
          "text": [
            "16)\n",
            " [[0.59809041 0.39193371 0.5803264 ]\n",
            " [0.52004648 0.42250659 0.51750912]]\n"
          ]
        }
      ],
      "source": [
        "arr16 = np.random.rand(2, 3, 4)\n",
        "print(\"16)\\n\", arr16.mean(axis=2))"
      ]
    },
    {
      "cell_type": "markdown",
      "metadata": {
        "id": "wDKenYhYkbak"
      },
      "source": [
        "17) Create a 1D array and split it into 3 equal parts.\n"
      ]
    },
    {
      "cell_type": "code",
      "execution_count": 18,
      "metadata": {
        "colab": {
          "base_uri": "https://localhost:8080/"
        },
        "id": "ZjEaSTA6ke_f",
        "outputId": "85e23d93-a27f-4385-a73d-d143e6e077cf"
      },
      "outputs": [
        {
          "name": "stdout",
          "output_type": "stream",
          "text": [
            "17) [array([0, 1, 2]), array([3, 4, 5]), array([6, 7, 8])]\n"
          ]
        }
      ],
      "source": [
        "print(\"17)\", np.split(np.arange(9), 3))\n"
      ]
    },
    {
      "cell_type": "markdown",
      "metadata": {
        "id": "WVbbaGe4kh-n"
      },
      "source": [
        "18) Find unique elements and their counts in an array [1, 2, 2, 3, 4, 4, 4].\n"
      ]
    },
    {
      "cell_type": "code",
      "execution_count": 19,
      "metadata": {
        "colab": {
          "base_uri": "https://localhost:8080/"
        },
        "id": "Ukdl0TiikkSR",
        "outputId": "35b31fb6-976c-420e-a29c-c3d403ee7a4f"
      },
      "outputs": [
        {
          "name": "stdout",
          "output_type": "stream",
          "text": [
            "18) Unique: [1 2 3 4]\n",
            "    Counts: [1 2 1 3]\n"
          ]
        }
      ],
      "source": [
        "arr18 = np.array([1, 2, 2, 3, 4, 4, 4])\n",
        "u, c = np.unique(arr18, return_counts=True)\n",
        "print(\"18) Unique:\", u)\n",
        "print(\"    Counts:\", c)\n"
      ]
    },
    {
      "cell_type": "markdown",
      "metadata": {
        "id": "H0UowUEWkoIq"
      },
      "source": [
        "19) Given a large array, find the indices of the top 5 maximum values.\n"
      ]
    },
    {
      "cell_type": "code",
      "execution_count": 20,
      "metadata": {
        "colab": {
          "base_uri": "https://localhost:8080/"
        },
        "id": "toD8NBovkrKU",
        "outputId": "96643419-d936-4308-e095-c405f80f627b"
      },
      "outputs": [
        {
          "name": "stdout",
          "output_type": "stream",
          "text": [
            "19) [17 10 39 60 59]\n"
          ]
        }
      ],
      "source": [
        "arr19 = np.random.randint(1, 1000, 100)\n",
        "print(\"19)\", arr19.argsort()[-5:][::-1])"
      ]
    },
    {
      "cell_type": "markdown",
      "metadata": {
        "id": "bx1kg0Atkynd"
      },
      "source": [
        "20) Create a 2D array and normalize it so that all values lie between 0 and 1.\n"
      ]
    },
    {
      "cell_type": "code",
      "execution_count": 21,
      "metadata": {
        "colab": {
          "base_uri": "https://localhost:8080/"
        },
        "id": "ECkAGy4fk1lA",
        "outputId": "9d1b654c-8fa8-4806-875e-a90823dae2b1"
      },
      "outputs": [
        {
          "name": "stdout",
          "output_type": "stream",
          "text": [
            "20)\n",
            " [[1.     0.3875 0.7875]\n",
            " [0.725  0.     0.525 ]\n",
            " [0.025  0.7875 0.225 ]]\n"
          ]
        }
      ],
      "source": [
        "arr20 = np.random.randint(1, 100, (3, 3))\n",
        "norm = (arr20 - arr20.min()) / (arr20.max() - arr20.min())\n",
        "print(\"20)\\n\", norm)"
      ]
    },
    {
      "cell_type": "markdown",
      "metadata": {
        "id": "yqPF_n_Pl1Sr"
      },
      "source": [
        "PANDAS QUESTION"
      ]
    },
    {
      "cell_type": "code",
      "execution_count": 22,
      "metadata": {
        "id": "B9q1a9K9mS_t"
      },
      "outputs": [],
      "source": [
        "import pandas as pd\n",
        "\n"
      ]
    },
    {
      "cell_type": "markdown",
      "metadata": {
        "id": "cRy4HCpFmVJ8"
      },
      "source": [
        "21) Create a DataFrame from a dictionary with columns ‘Name’, ‘Age’, and ‘City’. Add a new column ‘Country’ with the same value for all rows.\n"
      ]
    },
    {
      "cell_type": "code",
      "execution_count": 23,
      "metadata": {
        "colab": {
          "base_uri": "https://localhost:8080/"
        },
        "id": "WfBiG1UFmZmx",
        "outputId": "749b1e0e-77dd-4799-897e-236932b22bd8"
      },
      "outputs": [
        {
          "name": "stdout",
          "output_type": "stream",
          "text": [
            "      Name  Age         City Country\n",
            "0    Alice   25     New York     USA\n",
            "1      Bob   32  Los Angeles     USA\n",
            "2  Charlie   28      Chicago     USA\n"
          ]
        }
      ],
      "source": [
        "data = {'Name': ['Alice', 'Bob', 'Charlie'], 'Age': [25, 32, 28], 'City': ['New York', 'Los Angeles', 'Chicago']}\n",
        "df = pd.DataFrame(data)\n",
        "df['Country'] = 'USA'\n",
        "print(df)\n"
      ]
    },
    {
      "cell_type": "markdown",
      "metadata": {
        "id": "7k-UbnQtmc3W"
      },
      "source": [
        "22) Read a CSV file and display the first 5 rows."
      ]
    },
    {
      "cell_type": "code",
      "execution_count": 26,
      "metadata": {
        "colab": {
          "base_uri": "https://localhost:8080/"
        },
        "id": "TFpZjAfgmfrz",
        "outputId": "f1ee096f-124e-4b94-9ddd-5b020d63de3d"
      },
      "outputs": [
        {
          "name": "stdout",
          "output_type": "stream",
          "text": [
            "   EmployeeID          Name  Age           City Department  Salary  \\\n",
            "0         101    John Smith   29       New York         IT   60000   \n",
            "1         102     Sarah Lee   34        Chicago         HR   55000   \n",
            "2         103  Michael Chen   41  San Francisco    Finance   75000   \n",
            "3         104     Ana Kumar   28       New York         IT   58000   \n",
            "4         105    Ravi Patel   36    Los Angeles      Sales   62000   \n",
            "\n",
            "    StartDate                Email   Bonus  \n",
            "0  15-03-2022     john@example.com  1000.0  \n",
            "1  10-01-2023    sarah@example.com     NaN  \n",
            "2  20-07-2021  michael@example.com  2000.0  \n",
            "3  12-05-2023      ana@example.com     NaN  \n",
            "4  01-11-2020     ravi@example.com  1500.0  \n"
          ]
        }
      ],
      "source": [
        "df_csv = pd.read_csv('/content/employees (1).csv')\n",
        "print(df_csv.head())\n"
      ]
    },
    {
      "cell_type": "markdown",
      "metadata": {
        "id": "lUifWYK_mrul"
      },
      "source": [
        "23) Given a DataFrame, drop rows with any missing values.\n"
      ]
    },
    {
      "cell_type": "code",
      "execution_count": 27,
      "metadata": {
        "colab": {
          "base_uri": "https://localhost:8080/"
        },
        "id": "Vp45yP0HmvMq",
        "outputId": "496dde71-68b6-4499-d2a0-71145609a7ca"
      },
      "outputs": [
        {
          "name": "stdout",
          "output_type": "stream",
          "text": [
            "   EmployeeID          Name  Age           City Department  Salary  \\\n",
            "0         101    John Smith   29       New York         IT   60000   \n",
            "2         103  Michael Chen   41  San Francisco    Finance   75000   \n",
            "4         105    Ravi Patel   36    Los Angeles      Sales   62000   \n",
            "5         106          Raju   23        Chennai         HR   80000   \n",
            "\n",
            "    StartDate                Email   Bonus  \n",
            "0  15-03-2022     john@example.com  1000.0  \n",
            "2  20-07-2021  michael@example.com  2000.0  \n",
            "4  01-11-2020     ravi@example.com  1500.0  \n",
            "5  11-10-2022       rr@example.com  3000.0  \n"
          ]
        }
      ],
      "source": [
        "df_cleaned = df_csv.dropna()\n",
        "print(df_cleaned)\n"
      ]
    },
    {
      "cell_type": "markdown",
      "metadata": {
        "id": "A0zgo7d4m2c2"
      },
      "source": []
    },
    {
      "cell_type": "markdown",
      "metadata": {
        "id": "TU0naSD8nP2v"
      },
      "source": [
        "24) Filter rows where ‘Age’ is greater than 30.\n"
      ]
    },
    {
      "cell_type": "code",
      "execution_count": 28,
      "metadata": {
        "colab": {
          "base_uri": "https://localhost:8080/"
        },
        "id": "m4tHPhVWnSeC",
        "outputId": "30758d21-f1f0-4fd1-ca8b-c0eaa92ab250"
      },
      "outputs": [
        {
          "name": "stdout",
          "output_type": "stream",
          "text": [
            "  Name  Age         City Country\n",
            "1  Bob   32  Los Angeles     USA\n"
          ]
        }
      ],
      "source": [
        "filtered_df = df[df['Age'] > 30]\n",
        "print(filtered_df)\n"
      ]
    },
    {
      "cell_type": "markdown",
      "metadata": {
        "id": "WCRgkTMynWJQ"
      },
      "source": [
        "25) Calculate the mean and median of the ‘Salary’ column.\n"
      ]
    },
    {
      "cell_type": "code",
      "execution_count": 29,
      "metadata": {
        "colab": {
          "base_uri": "https://localhost:8080/"
        },
        "id": "B0NCH_lsnYmJ",
        "outputId": "ac9062e4-c68c-4e00-c40f-c638feb0689c"
      },
      "outputs": [
        {
          "name": "stdout",
          "output_type": "stream",
          "text": [
            "Mean: 55000.0\n",
            "Median: 55000.0\n"
          ]
        }
      ],
      "source": [
        "df['Salary'] = [50000, 60000, 55000]  # Example data\n",
        "print(\"Mean:\", df['Salary'].mean())\n",
        "print(\"Median:\", df['Salary'].median())\n"
      ]
    },
    {
      "cell_type": "markdown",
      "metadata": {
        "id": "NNMpBn4HncJ_"
      },
      "source": [
        "26) Sort a DataFrame by the ‘Date’ column in descending order.\n"
      ]
    },
    {
      "cell_type": "code",
      "execution_count": 30,
      "metadata": {
        "colab": {
          "base_uri": "https://localhost:8080/"
        },
        "id": "DAHfOAtQneU3",
        "outputId": "8e075acb-08a4-4be0-fc76-25de1c5bd896"
      },
      "outputs": [
        {
          "name": "stdout",
          "output_type": "stream",
          "text": [
            "      Name  Age         City Country  Salary       Date\n",
            "2  Charlie   28      Chicago     USA   55000 2024-01-10\n",
            "0    Alice   25     New York     USA   50000 2023-06-01\n",
            "1      Bob   32  Los Angeles     USA   60000 2022-12-15\n"
          ]
        }
      ],
      "source": [
        "df['Date'] = pd.to_datetime(['2023-06-01', '2022-12-15', '2024-01-10'])\n",
        "sorted_df = df.sort_values(by='Date', ascending=False)\n",
        "print(sorted_df)\n"
      ]
    },
    {
      "cell_type": "markdown",
      "metadata": {
        "id": "qZRCfPZ4nhVs"
      },
      "source": [
        "27) Replace all occurrences of ‘New York’ in the ‘City’ column with ‘NYC’.\n"
      ]
    },
    {
      "cell_type": "code",
      "execution_count": 31,
      "metadata": {
        "colab": {
          "base_uri": "https://localhost:8080/"
        },
        "id": "IUUgt1bAnjem",
        "outputId": "b0b1efcf-4228-40bd-97f5-f7f7861d2cbd"
      },
      "outputs": [
        {
          "name": "stdout",
          "output_type": "stream",
          "text": [
            "      Name  Age         City Country  Salary       Date\n",
            "0    Alice   25          NYC     USA   50000 2023-06-01\n",
            "1      Bob   32  Los Angeles     USA   60000 2022-12-15\n",
            "2  Charlie   28      Chicago     USA   55000 2024-01-10\n"
          ]
        }
      ],
      "source": [
        "df['City'] = df['City'].replace('New York', 'NYC')\n",
        "print(df)\n"
      ]
    },
    {
      "cell_type": "markdown",
      "metadata": {
        "id": "tPOVRBSbnnUe"
      },
      "source": [
        "28) Group a DataFrame by ‘Department’ and calculate the average ‘Salary’ for each department.\n"
      ]
    },
    {
      "cell_type": "code",
      "execution_count": 32,
      "metadata": {
        "colab": {
          "base_uri": "https://localhost:8080/"
        },
        "id": "_Akqu8smnq04",
        "outputId": "d9795b0b-68cf-4734-fc06-e17335c63aee"
      },
      "outputs": [
        {
          "name": "stdout",
          "output_type": "stream",
          "text": [
            "Department\n",
            "HR    50000.0\n",
            "IT    57500.0\n",
            "Name: Salary, dtype: float64\n"
          ]
        }
      ],
      "source": [
        "df['Department'] = ['HR', 'IT', 'IT']\n",
        "grouped = df.groupby('Department')['Salary'].mean()\n",
        "print(grouped)\n"
      ]
    },
    {
      "cell_type": "markdown",
      "metadata": {
        "id": "hzniYtwKnttv"
      },
      "source": [
        "29) Count the number of unique values in the ‘City’ column.\n"
      ]
    },
    {
      "cell_type": "code",
      "execution_count": 33,
      "metadata": {
        "colab": {
          "base_uri": "https://localhost:8080/"
        },
        "id": "vbqrLn3bnwQM",
        "outputId": "f980807d-eea8-4c7b-8806-1ba4cb9b7b98"
      },
      "outputs": [
        {
          "name": "stdout",
          "output_type": "stream",
          "text": [
            "Unique Cities: 3\n"
          ]
        }
      ],
      "source": [
        "unique_cities = df['City'].nunique()\n",
        "print(\"Unique Cities:\", unique_cities)\n"
      ]
    },
    {
      "cell_type": "markdown",
      "metadata": {
        "id": "Kxb34RRbnzuD"
      },
      "source": [
        "30) Rename the column ‘DOB’ to ‘Date_of_Birth’.\n"
      ]
    },
    {
      "cell_type": "code",
      "execution_count": 34,
      "metadata": {
        "colab": {
          "base_uri": "https://localhost:8080/"
        },
        "id": "Yu9nH7Pbn2lq",
        "outputId": "eceb01d1-9b3c-4adb-fa8d-22d1a11ff8bb"
      },
      "outputs": [
        {
          "name": "stdout",
          "output_type": "stream",
          "text": [
            "      Name  Age         City Country  Salary       Date Department  \\\n",
            "0    Alice   25          NYC     USA   50000 2023-06-01         HR   \n",
            "1      Bob   32  Los Angeles     USA   60000 2022-12-15         IT   \n",
            "2  Charlie   28      Chicago     USA   55000 2024-01-10         IT   \n",
            "\n",
            "  Date_of_Birth  \n",
            "0    1990-05-01  \n",
            "1    1988-07-12  \n",
            "2    1995-09-30  \n"
          ]
        }
      ],
      "source": [
        "df['DOB'] = pd.to_datetime(['1990-05-01', '1988-07-12', '1995-09-30'])\n",
        "df = df.rename(columns={'DOB': 'Date_of_Birth'})\n",
        "print(df)\n"
      ]
    },
    {
      "cell_type": "markdown",
      "metadata": {
        "id": "EocHvZrHn6gG"
      },
      "source": [
        "31) Combine two DataFrames vertically (one below the other).\n"
      ]
    },
    {
      "cell_type": "code",
      "execution_count": 35,
      "metadata": {
        "colab": {
          "base_uri": "https://localhost:8080/"
        },
        "id": "WQLv1I0qn9Nl",
        "outputId": "344386f6-71ac-4423-eb3f-c4d7038414fd"
      },
      "outputs": [
        {
          "name": "stdout",
          "output_type": "stream",
          "text": [
            "   A  B\n",
            "0  1  3\n",
            "1  2  4\n",
            "2  5  7\n",
            "3  6  8\n"
          ]
        }
      ],
      "source": [
        "df1 = pd.DataFrame({'A': [1, 2], 'B': [3, 4]})\n",
        "df2 = pd.DataFrame({'A': [5, 6], 'B': [7, 8]})\n",
        "combined_df = pd.concat([df1, df2], ignore_index=True)\n",
        "print(combined_df)\n"
      ]
    },
    {
      "cell_type": "markdown",
      "metadata": {
        "id": "Cdugcm3UoAMo"
      },
      "source": [
        "32) Merge two DataFrames on a common column ‘EmployeeID’.\n"
      ]
    },
    {
      "cell_type": "code",
      "execution_count": 36,
      "metadata": {
        "colab": {
          "base_uri": "https://localhost:8080/"
        },
        "id": "113X2nJDoEpc",
        "outputId": "15d7b44a-3df4-40ed-c623-fef533e009b7"
      },
      "outputs": [
        {
          "name": "stdout",
          "output_type": "stream",
          "text": [
            "   EmployeeID   Name  Salary\n",
            "0           1  Alice   70000\n",
            "1           2    Bob   80000\n"
          ]
        }
      ],
      "source": [
        "df_left = pd.DataFrame({'EmployeeID': [1, 2], 'Name': ['Alice', 'Bob']})\n",
        "df_right = pd.DataFrame({'EmployeeID': [1, 2], 'Salary': [70000, 80000]})\n",
        "merged_df = pd.merge(df_left, df_right, on='EmployeeID')\n",
        "print(merged_df)\n"
      ]
    },
    {
      "cell_type": "markdown",
      "metadata": {
        "id": "h4msAfHFoF7s"
      },
      "source": [
        "33) Export a DataFrame to an Excel file.\n"
      ]
    },
    {
      "cell_type": "code",
      "execution_count": 38,
      "metadata": {
        "id": "xenpZlPuoH5W"
      },
      "outputs": [],
      "source": [
        "df.to_excel('OutputOfPython.xlsx', index=False)\n"
      ]
    },
    {
      "cell_type": "markdown",
      "metadata": {
        "id": "gM3sw1RgoWoo"
      },
      "source": [
        "34) Given a DataFrame, select only the columns ‘Name’ and ‘Salary’.\n"
      ]
    },
    {
      "cell_type": "code",
      "execution_count": 39,
      "metadata": {
        "colab": {
          "base_uri": "https://localhost:8080/"
        },
        "id": "76qhMPsJoa7w",
        "outputId": "19d9be64-10fa-4a3b-84d9-d3d7682cb3c2"
      },
      "outputs": [
        {
          "name": "stdout",
          "output_type": "stream",
          "text": [
            "      Name  Salary\n",
            "0    Alice   50000\n",
            "1      Bob   60000\n",
            "2  Charlie   55000\n"
          ]
        }
      ],
      "source": [
        "selected_df = df[['Name', 'Salary']]\n",
        "print(selected_df)\n"
      ]
    },
    {
      "cell_type": "markdown",
      "metadata": {
        "id": "_R7bBKQLodsu"
      },
      "source": [
        "35) Create a new column ‘Tax’ as 10% of ‘Salary’.\n"
      ]
    },
    {
      "cell_type": "code",
      "execution_count": 40,
      "metadata": {
        "colab": {
          "base_uri": "https://localhost:8080/"
        },
        "id": "YykQZfknogEk",
        "outputId": "f893c2a4-f80d-4410-da8b-4cb43396676f"
      },
      "outputs": [
        {
          "name": "stdout",
          "output_type": "stream",
          "text": [
            "      Name  Age         City Country  Salary       Date Department  \\\n",
            "0    Alice   25          NYC     USA   50000 2023-06-01         HR   \n",
            "1      Bob   32  Los Angeles     USA   60000 2022-12-15         IT   \n",
            "2  Charlie   28      Chicago     USA   55000 2024-01-10         IT   \n",
            "\n",
            "  Date_of_Birth     Tax  \n",
            "0    1990-05-01  5000.0  \n",
            "1    1988-07-12  6000.0  \n",
            "2    1995-09-30  5500.0  \n"
          ]
        }
      ],
      "source": [
        "df['Tax'] = df['Salary'] * 0.10\n",
        "print(df)\n"
      ]
    },
    {
      "cell_type": "markdown",
      "metadata": {
        "id": "fAfziBgsompN"
      },
      "source": [
        "36) Find rows where ‘StartDate’ is after ‘2023-01-01’.\n"
      ]
    },
    {
      "cell_type": "code",
      "execution_count": 41,
      "metadata": {
        "colab": {
          "base_uri": "https://localhost:8080/"
        },
        "id": "VNm6ajxVoptt",
        "outputId": "c533749a-bf4f-4b68-ffb5-50408dbebbbf"
      },
      "outputs": [
        {
          "name": "stdout",
          "output_type": "stream",
          "text": [
            "      Name  Age         City Country  Salary       Date Department  \\\n",
            "1      Bob   32  Los Angeles     USA   60000 2022-12-15         IT   \n",
            "2  Charlie   28      Chicago     USA   55000 2024-01-10         IT   \n",
            "\n",
            "  Date_of_Birth     Tax  StartDate  \n",
            "1    1988-07-12  6000.0 2023-06-10  \n",
            "2    1995-09-30  5500.0 2024-03-15  \n"
          ]
        }
      ],
      "source": [
        "df['StartDate'] = pd.to_datetime(['2022-05-01', '2023-06-10', '2024-03-15'])\n",
        "after_2023 = df[df['StartDate'] > '2023-01-01']\n",
        "print(after_2023)\n"
      ]
    },
    {
      "cell_type": "markdown",
      "metadata": {
        "id": "48ST9Noxov2C"
      },
      "source": [
        "37) Replace NaN values in the ‘Bonus’ column with the mean bonus.\n"
      ]
    },
    {
      "cell_type": "code",
      "execution_count": 47,
      "metadata": {
        "colab": {
          "base_uri": "https://localhost:8080/"
        },
        "id": "Rcgo8zSsoyj7",
        "outputId": "0072532b-7fe4-4b14-c97a-89e00452c43f"
      },
      "outputs": [
        {
          "name": "stdout",
          "output_type": "stream",
          "text": [
            "               Name  Age         City Country  Salary       Date Department  \\\n",
            "EmployeeID                                                                    \n",
            "101           Alice   25          NYC     USA   50000 2023-06-01         HR   \n",
            "102             Bob   32  Los Angeles     USA   60000 2022-12-15         IT   \n",
            "103         Charlie   28      Chicago     USA   55000 2024-01-10         IT   \n",
            "\n",
            "           Date_of_Birth     Tax  StartDate   Bonus  \n",
            "EmployeeID                                           \n",
            "101           1990-05-01  5000.0 2022-05-01  1000.0  \n",
            "102           1988-07-12  6000.0 2023-06-10  1250.0  \n",
            "103           1995-09-30  5500.0 2024-03-15  1500.0  \n"
          ]
        }
      ],
      "source": [
        "df['Bonus'] = [1000, np.nan, 1500]\n",
        "df['Bonus'] = df['Bonus'].fillna(df['Bonus'].mean())\n",
        "print(df)\n"
      ]
    },
    {
      "cell_type": "markdown",
      "metadata": {
        "id": "G_kytZhJo3z0"
      },
      "source": [
        "38) Set ‘EmployeeID’ as the index of the DataFrame.\n"
      ]
    },
    {
      "cell_type": "code",
      "execution_count": 43,
      "metadata": {
        "colab": {
          "base_uri": "https://localhost:8080/"
        },
        "id": "l5CveH4ho97z",
        "outputId": "007d047b-cd21-458f-da13-2d00154500a4"
      },
      "outputs": [
        {
          "name": "stdout",
          "output_type": "stream",
          "text": [
            "               Name  Age         City Country  Salary       Date Department  \\\n",
            "EmployeeID                                                                    \n",
            "101           Alice   25          NYC     USA   50000 2023-06-01         HR   \n",
            "102             Bob   32  Los Angeles     USA   60000 2022-12-15         IT   \n",
            "103         Charlie   28      Chicago     USA   55000 2024-01-10         IT   \n",
            "\n",
            "           Date_of_Birth     Tax  StartDate   Bonus  \n",
            "EmployeeID                                           \n",
            "101           1990-05-01  5000.0 2022-05-01  1000.0  \n",
            "102           1988-07-12  6000.0 2023-06-10  1250.0  \n",
            "103           1995-09-30  5500.0 2024-03-15  1500.0  \n"
          ]
        }
      ],
      "source": [
        "df['EmployeeID'] = [101, 102, 103]\n",
        "df.set_index('EmployeeID', inplace=True)\n",
        "print(df)\n"
      ]
    },
    {
      "cell_type": "markdown",
      "metadata": {
        "id": "28xlzcVfpBvn"
      },
      "source": [
        "39) Drop duplicate rows based on the ‘Email’ column.\n"
      ]
    },
    {
      "cell_type": "code",
      "execution_count": 44,
      "metadata": {
        "colab": {
          "base_uri": "https://localhost:8080/"
        },
        "id": "iIdSEGp6pFcO",
        "outputId": "4269494d-5f1c-4548-96d7-6a85afa77313"
      },
      "outputs": [
        {
          "name": "stdout",
          "output_type": "stream",
          "text": [
            "    Name          Email\n",
            "0  Alice  a@example.com\n",
            "1    Bob  b@example.com\n"
          ]
        }
      ],
      "source": [
        "df_email = pd.DataFrame({\n",
        "    'Name': ['Alice', 'Bob', 'Alice'],\n",
        "    'Email': ['a@example.com', 'b@example.com', 'a@example.com']\n",
        "})\n",
        "df_unique = df_email.drop_duplicates(subset='Email')\n",
        "print(df_unique)\n"
      ]
    },
    {
      "cell_type": "markdown",
      "metadata": {
        "id": "sNlQTxPhpIUU"
      },
      "source": [
        "40) Pivot a DataFrame to show total sales per ‘Product’ per ‘Month’."
      ]
    },
    {
      "cell_type": "code",
      "execution_count": 45,
      "metadata": {
        "colab": {
          "base_uri": "https://localhost:8080/"
        },
        "id": "37i4yCuYpK8s",
        "outputId": "35118f50-eaee-447b-d1c7-2e3066c2f7b3"
      },
      "outputs": [
        {
          "name": "stdout",
          "output_type": "stream",
          "text": [
            "Month    Feb  Jan\n",
            "Product          \n",
            "A        150  100\n",
            "B        250  200\n"
          ]
        }
      ],
      "source": [
        "sales_df = pd.DataFrame({\n",
        "    'Product': ['A', 'B', 'A', 'B'],\n",
        "    'Month': ['Jan', 'Jan', 'Feb', 'Feb'],\n",
        "    'Sales': [100, 200, 150, 250]\n",
        "})\n",
        "pivot_df = sales_df.pivot_table(values='Sales', index='Product', columns='Month', aggfunc='sum')\n",
        "print(pivot_df)\n"
      ]
    }
  ],
  "metadata": {
    "colab": {
      "provenance": []
    },
    "kernelspec": {
      "display_name": "Python 3",
      "name": "python3"
    },
    "language_info": {
      "name": "python"
    }
  },
  "nbformat": 4,
  "nbformat_minor": 0
}
